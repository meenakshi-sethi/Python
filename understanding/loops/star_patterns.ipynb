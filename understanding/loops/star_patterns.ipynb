{
 "cells": [
  {
   "cell_type": "markdown",
   "id": "cc3d92fe-5c8a-4448-b760-7290d31b5064",
   "metadata": {},
   "source": [
    "# STAR PATTERN PROGRAMS"
   ]
  },
  {
   "cell_type": "markdown",
   "id": "45f1068d-c3bc-4bf9-a3de-8ce4b3a4f673",
   "metadata": {},
   "source": [
    "### Right Angle Triangle Pattern\n",
    "\n",
    "Right Angle Triangle PatternProblem Statement:\n",
    "Write a program that prints a right angle triangle pattern using stars (*). The user will input the number of rows, and the program should print:\n",
    "\n",
    "1 star in the first row\n",
    "2 stars in the second row\n",
    "3 stars in the third row\n",
    "And so on...\n",
    "\n",
    "Input: Number of rows (integer)\n",
    "Expected Output Example:\n",
    "\n",
    "- Enter number of rows: 5\n",
    "```\n",
    "*\n",
    "**\n",
    "***\n",
    "****\n",
    "*****\n",
    "```\n",
    "- Enter number of rows: 3\n",
    "```\n",
    "*\n",
    "**\n",
    "***\n",
    "```"
   ]
  },
  {
   "cell_type": "markdown",
   "id": "2b57faee-fea2-433f-94ac-e698259ee855",
   "metadata": {},
   "source": [
    "Key Concepts:\n",
    "\n",
    "- Loops - Repeating actions automatically\n",
    "- Nested Loops - Loops inside other loops\n",
    "- Input - Getting data from user\n",
    "- Print - Displaying output"
   ]
  },
  {
   "cell_type": "markdown",
   "id": "39b5fa87-3b92-4431-8e25-64e66ee366e5",
   "metadata": {},
   "source": [
    "Approach\n",
    "\n",
    "**step 1**: get input: Ask the user how many rows they want and store this number in a variable\n",
    "**step 2**: Think about rows: We need to create each row one by one. Row 1 needs 1 star, Row 2 needs 2 stars etc. This means we need a loop that counts from 1 to the number of rows\n",
    "**step3**: Think about"
   ]
  },
  {
   "cell_type": "code",
   "execution_count": 3,
   "id": "d02070d1-838a-4f9e-a000-a8b30b383a00",
   "metadata": {},
   "outputs": [
    {
     "name": "stdout",
     "output_type": "stream",
     "text": [
      "Hello,  hi\n"
     ]
    }
   ],
   "source": [
    "print(\"Hello\", end= \",  \");print(\"hi\")"
   ]
  },
  {
   "cell_type": "code",
   "execution_count": null,
   "id": "8e33a9e4-9c62-4f76-9b77-de6333b1298a",
   "metadata": {},
   "outputs": [],
   "source": []
  },
  {
   "cell_type": "code",
   "execution_count": null,
   "id": "97bcc539-b961-4057-8af6-603680665657",
   "metadata": {},
   "outputs": [],
   "source": []
  },
  {
   "cell_type": "code",
   "execution_count": null,
   "id": "db178181-d142-4142-84c6-476f92d76783",
   "metadata": {},
   "outputs": [],
   "source": []
  },
  {
   "cell_type": "code",
   "execution_count": null,
   "id": "d92e13b0-2956-42e1-9856-229aff7db719",
   "metadata": {},
   "outputs": [],
   "source": []
  }
 ],
 "metadata": {
  "kernelspec": {
   "display_name": "Python 3 (ipykernel)",
   "language": "python",
   "name": "python3"
  },
  "language_info": {
   "codemirror_mode": {
    "name": "ipython",
    "version": 3
   },
   "file_extension": ".py",
   "mimetype": "text/x-python",
   "name": "python",
   "nbconvert_exporter": "python",
   "pygments_lexer": "ipython3",
   "version": "3.13.5"
  }
 },
 "nbformat": 4,
 "nbformat_minor": 5
}
